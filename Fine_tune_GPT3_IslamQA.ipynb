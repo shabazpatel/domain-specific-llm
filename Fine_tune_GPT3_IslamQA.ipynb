{
  "cells": [
    {
      "cell_type": "code",
      "execution_count": 12,
      "metadata": {
        "colab": {
          "base_uri": "https://localhost:8080/"
        },
        "id": "MMrYAvveDb9a",
        "outputId": "0f804f48-a274-4181-cb23-0f8294a0fa61"
      },
      "outputs": [
        {
          "name": "stdout",
          "output_type": "stream",
          "text": [
            "Requirement already satisfied: openai in /usr/local/lib/python3.10/dist-packages (0.28.1)\n",
            "Requirement already satisfied: requests>=2.20 in /usr/local/lib/python3.10/dist-packages (from openai) (2.31.0)\n",
            "Requirement already satisfied: tqdm in /usr/local/lib/python3.10/dist-packages (from openai) (4.66.1)\n",
            "Requirement already satisfied: aiohttp in /usr/local/lib/python3.10/dist-packages (from openai) (3.8.6)\n",
            "Requirement already satisfied: charset-normalizer<4,>=2 in /usr/local/lib/python3.10/dist-packages (from requests>=2.20->openai) (3.3.1)\n",
            "Requirement already satisfied: idna<4,>=2.5 in /usr/local/lib/python3.10/dist-packages (from requests>=2.20->openai) (3.4)\n",
            "Requirement already satisfied: urllib3<3,>=1.21.1 in /usr/local/lib/python3.10/dist-packages (from requests>=2.20->openai) (2.0.7)\n",
            "Requirement already satisfied: certifi>=2017.4.17 in /usr/local/lib/python3.10/dist-packages (from requests>=2.20->openai) (2023.7.22)\n",
            "Requirement already satisfied: attrs>=17.3.0 in /usr/local/lib/python3.10/dist-packages (from aiohttp->openai) (23.1.0)\n",
            "Requirement already satisfied: multidict<7.0,>=4.5 in /usr/local/lib/python3.10/dist-packages (from aiohttp->openai) (6.0.4)\n",
            "Requirement already satisfied: async-timeout<5.0,>=4.0.0a3 in /usr/local/lib/python3.10/dist-packages (from aiohttp->openai) (4.0.3)\n",
            "Requirement already satisfied: yarl<2.0,>=1.0 in /usr/local/lib/python3.10/dist-packages (from aiohttp->openai) (1.9.2)\n",
            "Requirement already satisfied: frozenlist>=1.1.1 in /usr/local/lib/python3.10/dist-packages (from aiohttp->openai) (1.4.0)\n",
            "Requirement already satisfied: aiosignal>=1.1.2 in /usr/local/lib/python3.10/dist-packages (from aiohttp->openai) (1.3.1)\n",
            "Collecting langchain\n",
            "  Downloading langchain-0.0.329-py3-none-any.whl (2.0 MB)\n",
            "\u001b[2K     \u001b[90m━━━━━━━━━━━━━━━━━━━━━━━━━━━━━━━━━━━━━━━━\u001b[0m \u001b[32m2.0/2.0 MB\u001b[0m \u001b[31m24.0 MB/s\u001b[0m eta \u001b[36m0:00:00\u001b[0m\n",
            "\u001b[?25hRequirement already satisfied: PyYAML>=5.3 in /usr/local/lib/python3.10/dist-packages (from langchain) (6.0.1)\n",
            "Requirement already satisfied: SQLAlchemy<3,>=1.4 in /usr/local/lib/python3.10/dist-packages (from langchain) (2.0.22)\n",
            "Requirement already satisfied: aiohttp<4.0.0,>=3.8.3 in /usr/local/lib/python3.10/dist-packages (from langchain) (3.8.6)\n",
            "Requirement already satisfied: anyio<4.0 in /usr/local/lib/python3.10/dist-packages (from langchain) (3.7.1)\n",
            "Requirement already satisfied: async-timeout<5.0.0,>=4.0.0 in /usr/local/lib/python3.10/dist-packages (from langchain) (4.0.3)\n",
            "Collecting dataclasses-json<0.7,>=0.5.7 (from langchain)\n",
            "  Downloading dataclasses_json-0.6.1-py3-none-any.whl (27 kB)\n",
            "Collecting jsonpatch<2.0,>=1.33 (from langchain)\n",
            "  Downloading jsonpatch-1.33-py2.py3-none-any.whl (12 kB)\n",
            "Collecting langsmith<0.1.0,>=0.0.52 (from langchain)\n",
            "  Downloading langsmith-0.0.56-py3-none-any.whl (44 kB)\n",
            "\u001b[2K     \u001b[90m━━━━━━━━━━━━━━━━━━━━━━━━━━━━━━━━━━━━━━━━\u001b[0m \u001b[32m44.4/44.4 kB\u001b[0m \u001b[31m6.1 MB/s\u001b[0m eta \u001b[36m0:00:00\u001b[0m\n",
            "\u001b[?25hRequirement already satisfied: numpy<2,>=1 in /usr/local/lib/python3.10/dist-packages (from langchain) (1.23.5)\n",
            "Requirement already satisfied: pydantic<3,>=1 in /usr/local/lib/python3.10/dist-packages (from langchain) (1.10.13)\n",
            "Requirement already satisfied: requests<3,>=2 in /usr/local/lib/python3.10/dist-packages (from langchain) (2.31.0)\n",
            "Requirement already satisfied: tenacity<9.0.0,>=8.1.0 in /usr/local/lib/python3.10/dist-packages (from langchain) (8.2.3)\n",
            "Requirement already satisfied: attrs>=17.3.0 in /usr/local/lib/python3.10/dist-packages (from aiohttp<4.0.0,>=3.8.3->langchain) (23.1.0)\n",
            "Requirement already satisfied: charset-normalizer<4.0,>=2.0 in /usr/local/lib/python3.10/dist-packages (from aiohttp<4.0.0,>=3.8.3->langchain) (3.3.1)\n",
            "Requirement already satisfied: multidict<7.0,>=4.5 in /usr/local/lib/python3.10/dist-packages (from aiohttp<4.0.0,>=3.8.3->langchain) (6.0.4)\n",
            "Requirement already satisfied: yarl<2.0,>=1.0 in /usr/local/lib/python3.10/dist-packages (from aiohttp<4.0.0,>=3.8.3->langchain) (1.9.2)\n",
            "Requirement already satisfied: frozenlist>=1.1.1 in /usr/local/lib/python3.10/dist-packages (from aiohttp<4.0.0,>=3.8.3->langchain) (1.4.0)\n",
            "Requirement already satisfied: aiosignal>=1.1.2 in /usr/local/lib/python3.10/dist-packages (from aiohttp<4.0.0,>=3.8.3->langchain) (1.3.1)\n",
            "Requirement already satisfied: idna>=2.8 in /usr/local/lib/python3.10/dist-packages (from anyio<4.0->langchain) (3.4)\n",
            "Requirement already satisfied: sniffio>=1.1 in /usr/local/lib/python3.10/dist-packages (from anyio<4.0->langchain) (1.3.0)\n",
            "Requirement already satisfied: exceptiongroup in /usr/local/lib/python3.10/dist-packages (from anyio<4.0->langchain) (1.1.3)\n",
            "Collecting marshmallow<4.0.0,>=3.18.0 (from dataclasses-json<0.7,>=0.5.7->langchain)\n",
            "  Downloading marshmallow-3.20.1-py3-none-any.whl (49 kB)\n",
            "\u001b[2K     \u001b[90m━━━━━━━━━━━━━━━━━━━━━━━━━━━━━━━━━━━━━━━━\u001b[0m \u001b[32m49.4/49.4 kB\u001b[0m \u001b[31m7.0 MB/s\u001b[0m eta \u001b[36m0:00:00\u001b[0m\n",
            "\u001b[?25hCollecting typing-inspect<1,>=0.4.0 (from dataclasses-json<0.7,>=0.5.7->langchain)\n",
            "  Downloading typing_inspect-0.9.0-py3-none-any.whl (8.8 kB)\n",
            "Collecting jsonpointer>=1.9 (from jsonpatch<2.0,>=1.33->langchain)\n",
            "  Downloading jsonpointer-2.4-py2.py3-none-any.whl (7.8 kB)\n",
            "Requirement already satisfied: typing-extensions>=4.2.0 in /usr/local/lib/python3.10/dist-packages (from pydantic<3,>=1->langchain) (4.5.0)\n",
            "Requirement already satisfied: urllib3<3,>=1.21.1 in /usr/local/lib/python3.10/dist-packages (from requests<3,>=2->langchain) (2.0.7)\n",
            "Requirement already satisfied: certifi>=2017.4.17 in /usr/local/lib/python3.10/dist-packages (from requests<3,>=2->langchain) (2023.7.22)\n",
            "Requirement already satisfied: greenlet!=0.4.17 in /usr/local/lib/python3.10/dist-packages (from SQLAlchemy<3,>=1.4->langchain) (3.0.0)\n",
            "Requirement already satisfied: packaging>=17.0 in /usr/local/lib/python3.10/dist-packages (from marshmallow<4.0.0,>=3.18.0->dataclasses-json<0.7,>=0.5.7->langchain) (23.2)\n",
            "Collecting mypy-extensions>=0.3.0 (from typing-inspect<1,>=0.4.0->dataclasses-json<0.7,>=0.5.7->langchain)\n",
            "  Downloading mypy_extensions-1.0.0-py3-none-any.whl (4.7 kB)\n",
            "Installing collected packages: mypy-extensions, marshmallow, jsonpointer, typing-inspect, langsmith, jsonpatch, dataclasses-json, langchain\n",
            "Successfully installed dataclasses-json-0.6.1 jsonpatch-1.33 jsonpointer-2.4 langchain-0.0.329 langsmith-0.0.56 marshmallow-3.20.1 mypy-extensions-1.0.0 typing-inspect-0.9.0\n"
          ]
        }
      ],
      "source": [
        "!pip install openai\n",
        "!pip install langchain"
      ]
    },
    {
      "cell_type": "code",
      "execution_count": null,
      "metadata": {
        "id": "fM5HfXy6HhIw"
      },
      "outputs": [],
      "source": [
        "import pandas as pd\n",
        "import json"
      ]
    },
    {
      "cell_type": "markdown",
      "metadata": {
        "id": "Fnpmo8hXFcpa"
      },
      "source": [
        "# Step 1: Create a prompt/response pair from Islam QA file"
      ]
    },
    {
      "cell_type": "code",
      "execution_count": 8,
      "metadata": {
        "id": "vex8ecxyBp3i"
      },
      "outputs": [],
      "source": [
        "finetuning_file = pd.read_csv('datasets/Islam100_499QA.csv')"
      ]
    },
    {
      "cell_type": "code",
      "execution_count": 9,
      "metadata": {
        "colab": {
          "base_uri": "https://localhost:8080/",
          "height": 423
        },
        "id": "1GNWEZeIEu91",
        "outputId": "611c2b9d-dcdd-426f-d394-facf2eb210e5"
      },
      "outputs": [
        {
          "data": {
            "text/html": [
              "\n",
              "  <div id=\"df-36ed25ca-42ee-42bb-ba35-e1fc957fa2c6\" class=\"colab-df-container\">\n",
              "    <div>\n",
              "<style scoped>\n",
              "    .dataframe tbody tr th:only-of-type {\n",
              "        vertical-align: middle;\n",
              "    }\n",
              "\n",
              "    .dataframe tbody tr th {\n",
              "        vertical-align: top;\n",
              "    }\n",
              "\n",
              "    .dataframe thead th {\n",
              "        text-align: right;\n",
              "    }\n",
              "</style>\n",
              "<table border=\"1\" class=\"dataframe\">\n",
              "  <thead>\n",
              "    <tr style=\"text-align: right;\">\n",
              "      <th></th>\n",
              "      <th>Unnamed: 0</th>\n",
              "      <th>Title</th>\n",
              "      <th>Ques</th>\n",
              "      <th>Ans</th>\n",
              "    </tr>\n",
              "  </thead>\n",
              "  <tbody>\n",
              "    <tr>\n",
              "      <th>0</th>\n",
              "      <td>100</td>\n",
              "      <td>If he sets up a waqf for his children and thei...</td>\n",
              "      <td>Question My father died, and he had sons and d...</td>\n",
              "      <td>Praise be to Allah.It is valid to set up a waq...</td>\n",
              "    </tr>\n",
              "    <tr>\n",
              "      <th>1</th>\n",
              "      <td>101</td>\n",
              "      <td>The hadeeth of Tameem al-Daari about the Dajjaal</td>\n",
              "      <td>Question Is it true that a group of Muslims we...</td>\n",
              "      <td>Praise be to Allah.The story that you mention ...</td>\n",
              "    </tr>\n",
              "    <tr>\n",
              "      <th>2</th>\n",
              "      <td>102</td>\n",
              "      <td>Cutting hair to make it all of equal length is...</td>\n",
              "      <td>Question What is the ruling on muslim men cutt...</td>\n",
              "      <td>Praise be to Allah. Cutting hair to make it al...</td>\n",
              "    </tr>\n",
              "    <tr>\n",
              "      <th>3</th>\n",
              "      <td>103</td>\n",
              "      <td>Meaning of the verse {and [yet], do not forget...</td>\n",
              "      <td>Question What is the meaning of the verse {and...</td>\n",
              "      <td>Praise be to Allah.There are two famous schola...</td>\n",
              "    </tr>\n",
              "    <tr>\n",
              "      <th>4</th>\n",
              "      <td>104</td>\n",
              "      <td>She separated from her first husband by means ...</td>\n",
              "      <td>Question I was married to my husband islamical...</td>\n",
              "      <td>Praise be to Allah. The khul‘ that you did you...</td>\n",
              "    </tr>\n",
              "    <tr>\n",
              "      <th>...</th>\n",
              "      <td>...</td>\n",
              "      <td>...</td>\n",
              "      <td>...</td>\n",
              "      <td>...</td>\n",
              "    </tr>\n",
              "    <tr>\n",
              "      <th>395</th>\n",
              "      <td>495</td>\n",
              "      <td>Can the person praying behind the imam read so...</td>\n",
              "      <td>Question I pray behind the imam in Taraweeh pr...</td>\n",
              "      <td>Praise be to Allah. Firstly: What the person p...</td>\n",
              "    </tr>\n",
              "    <tr>\n",
              "      <th>396</th>\n",
              "      <td>496</td>\n",
              "      <td>He suffers from too many wet dreams; he wakes ...</td>\n",
              "      <td>Question About five years ago, I started suffe...</td>\n",
              "      <td>Praise be to Allah.If a person wakes up and fi...</td>\n",
              "    </tr>\n",
              "    <tr>\n",
              "      <th>397</th>\n",
              "      <td>497</td>\n",
              "      <td>Prayer rooms (musallas) in houses and business...</td>\n",
              "      <td>Question I work in Saudi and I have accommodat...</td>\n",
              "      <td>Praise be to Allah.Prayer rooms that are built...</td>\n",
              "    </tr>\n",
              "    <tr>\n",
              "      <th>398</th>\n",
              "      <td>498</td>\n",
              "      <td>It is not permissible for women to wear shoes ...</td>\n",
              "      <td>Question Recently there have appeared in the m...</td>\n",
              "      <td>Praise be to Allah.If they look like men’s sho...</td>\n",
              "    </tr>\n",
              "    <tr>\n",
              "      <th>399</th>\n",
              "      <td>499</td>\n",
              "      <td>Can they take the diyah (blood money) for the ...</td>\n",
              "      <td>Question In our country the state requires car...</td>\n",
              "      <td>Praise be to Allah.Firstly: Commercial insuran...</td>\n",
              "    </tr>\n",
              "  </tbody>\n",
              "</table>\n",
              "<p>400 rows × 4 columns</p>\n",
              "</div>\n",
              "    <div class=\"colab-df-buttons\">\n",
              "\n",
              "  <div class=\"colab-df-container\">\n",
              "    <button class=\"colab-df-convert\" onclick=\"convertToInteractive('df-36ed25ca-42ee-42bb-ba35-e1fc957fa2c6')\"\n",
              "            title=\"Convert this dataframe to an interactive table.\"\n",
              "            style=\"display:none;\">\n",
              "\n",
              "  <svg xmlns=\"http://www.w3.org/2000/svg\" height=\"24px\" viewBox=\"0 -960 960 960\">\n",
              "    <path d=\"M120-120v-720h720v720H120Zm60-500h600v-160H180v160Zm220 220h160v-160H400v160Zm0 220h160v-160H400v160ZM180-400h160v-160H180v160Zm440 0h160v-160H620v160ZM180-180h160v-160H180v160Zm440 0h160v-160H620v160Z\"/>\n",
              "  </svg>\n",
              "    </button>\n",
              "\n",
              "  <style>\n",
              "    .colab-df-container {\n",
              "      display:flex;\n",
              "      gap: 12px;\n",
              "    }\n",
              "\n",
              "    .colab-df-convert {\n",
              "      background-color: #E8F0FE;\n",
              "      border: none;\n",
              "      border-radius: 50%;\n",
              "      cursor: pointer;\n",
              "      display: none;\n",
              "      fill: #1967D2;\n",
              "      height: 32px;\n",
              "      padding: 0 0 0 0;\n",
              "      width: 32px;\n",
              "    }\n",
              "\n",
              "    .colab-df-convert:hover {\n",
              "      background-color: #E2EBFA;\n",
              "      box-shadow: 0px 1px 2px rgba(60, 64, 67, 0.3), 0px 1px 3px 1px rgba(60, 64, 67, 0.15);\n",
              "      fill: #174EA6;\n",
              "    }\n",
              "\n",
              "    .colab-df-buttons div {\n",
              "      margin-bottom: 4px;\n",
              "    }\n",
              "\n",
              "    [theme=dark] .colab-df-convert {\n",
              "      background-color: #3B4455;\n",
              "      fill: #D2E3FC;\n",
              "    }\n",
              "\n",
              "    [theme=dark] .colab-df-convert:hover {\n",
              "      background-color: #434B5C;\n",
              "      box-shadow: 0px 1px 3px 1px rgba(0, 0, 0, 0.15);\n",
              "      filter: drop-shadow(0px 1px 2px rgba(0, 0, 0, 0.3));\n",
              "      fill: #FFFFFF;\n",
              "    }\n",
              "  </style>\n",
              "\n",
              "    <script>\n",
              "      const buttonEl =\n",
              "        document.querySelector('#df-36ed25ca-42ee-42bb-ba35-e1fc957fa2c6 button.colab-df-convert');\n",
              "      buttonEl.style.display =\n",
              "        google.colab.kernel.accessAllowed ? 'block' : 'none';\n",
              "\n",
              "      async function convertToInteractive(key) {\n",
              "        const element = document.querySelector('#df-36ed25ca-42ee-42bb-ba35-e1fc957fa2c6');\n",
              "        const dataTable =\n",
              "          await google.colab.kernel.invokeFunction('convertToInteractive',\n",
              "                                                    [key], {});\n",
              "        if (!dataTable) return;\n",
              "\n",
              "        const docLinkHtml = 'Like what you see? Visit the ' +\n",
              "          '<a target=\"_blank\" href=https://colab.research.google.com/notebooks/data_table.ipynb>data table notebook</a>'\n",
              "          + ' to learn more about interactive tables.';\n",
              "        element.innerHTML = '';\n",
              "        dataTable['output_type'] = 'display_data';\n",
              "        await google.colab.output.renderOutput(dataTable, element);\n",
              "        const docLink = document.createElement('div');\n",
              "        docLink.innerHTML = docLinkHtml;\n",
              "        element.appendChild(docLink);\n",
              "      }\n",
              "    </script>\n",
              "  </div>\n",
              "\n",
              "\n",
              "<div id=\"df-8a81376c-debc-431a-bbd7-38110236e0c5\">\n",
              "  <button class=\"colab-df-quickchart\" onclick=\"quickchart('df-8a81376c-debc-431a-bbd7-38110236e0c5')\"\n",
              "            title=\"Suggest charts.\"\n",
              "            style=\"display:none;\">\n",
              "\n",
              "<svg xmlns=\"http://www.w3.org/2000/svg\" height=\"24px\"viewBox=\"0 0 24 24\"\n",
              "     width=\"24px\">\n",
              "    <g>\n",
              "        <path d=\"M19 3H5c-1.1 0-2 .9-2 2v14c0 1.1.9 2 2 2h14c1.1 0 2-.9 2-2V5c0-1.1-.9-2-2-2zM9 17H7v-7h2v7zm4 0h-2V7h2v10zm4 0h-2v-4h2v4z\"/>\n",
              "    </g>\n",
              "</svg>\n",
              "  </button>\n",
              "\n",
              "<style>\n",
              "  .colab-df-quickchart {\n",
              "      --bg-color: #E8F0FE;\n",
              "      --fill-color: #1967D2;\n",
              "      --hover-bg-color: #E2EBFA;\n",
              "      --hover-fill-color: #174EA6;\n",
              "      --disabled-fill-color: #AAA;\n",
              "      --disabled-bg-color: #DDD;\n",
              "  }\n",
              "\n",
              "  [theme=dark] .colab-df-quickchart {\n",
              "      --bg-color: #3B4455;\n",
              "      --fill-color: #D2E3FC;\n",
              "      --hover-bg-color: #434B5C;\n",
              "      --hover-fill-color: #FFFFFF;\n",
              "      --disabled-bg-color: #3B4455;\n",
              "      --disabled-fill-color: #666;\n",
              "  }\n",
              "\n",
              "  .colab-df-quickchart {\n",
              "    background-color: var(--bg-color);\n",
              "    border: none;\n",
              "    border-radius: 50%;\n",
              "    cursor: pointer;\n",
              "    display: none;\n",
              "    fill: var(--fill-color);\n",
              "    height: 32px;\n",
              "    padding: 0;\n",
              "    width: 32px;\n",
              "  }\n",
              "\n",
              "  .colab-df-quickchart:hover {\n",
              "    background-color: var(--hover-bg-color);\n",
              "    box-shadow: 0 1px 2px rgba(60, 64, 67, 0.3), 0 1px 3px 1px rgba(60, 64, 67, 0.15);\n",
              "    fill: var(--button-hover-fill-color);\n",
              "  }\n",
              "\n",
              "  .colab-df-quickchart-complete:disabled,\n",
              "  .colab-df-quickchart-complete:disabled:hover {\n",
              "    background-color: var(--disabled-bg-color);\n",
              "    fill: var(--disabled-fill-color);\n",
              "    box-shadow: none;\n",
              "  }\n",
              "\n",
              "  .colab-df-spinner {\n",
              "    border: 2px solid var(--fill-color);\n",
              "    border-color: transparent;\n",
              "    border-bottom-color: var(--fill-color);\n",
              "    animation:\n",
              "      spin 1s steps(1) infinite;\n",
              "  }\n",
              "\n",
              "  @keyframes spin {\n",
              "    0% {\n",
              "      border-color: transparent;\n",
              "      border-bottom-color: var(--fill-color);\n",
              "      border-left-color: var(--fill-color);\n",
              "    }\n",
              "    20% {\n",
              "      border-color: transparent;\n",
              "      border-left-color: var(--fill-color);\n",
              "      border-top-color: var(--fill-color);\n",
              "    }\n",
              "    30% {\n",
              "      border-color: transparent;\n",
              "      border-left-color: var(--fill-color);\n",
              "      border-top-color: var(--fill-color);\n",
              "      border-right-color: var(--fill-color);\n",
              "    }\n",
              "    40% {\n",
              "      border-color: transparent;\n",
              "      border-right-color: var(--fill-color);\n",
              "      border-top-color: var(--fill-color);\n",
              "    }\n",
              "    60% {\n",
              "      border-color: transparent;\n",
              "      border-right-color: var(--fill-color);\n",
              "    }\n",
              "    80% {\n",
              "      border-color: transparent;\n",
              "      border-right-color: var(--fill-color);\n",
              "      border-bottom-color: var(--fill-color);\n",
              "    }\n",
              "    90% {\n",
              "      border-color: transparent;\n",
              "      border-bottom-color: var(--fill-color);\n",
              "    }\n",
              "  }\n",
              "</style>\n",
              "\n",
              "  <script>\n",
              "    async function quickchart(key) {\n",
              "      const quickchartButtonEl =\n",
              "        document.querySelector('#' + key + ' button');\n",
              "      quickchartButtonEl.disabled = true;  // To prevent multiple clicks.\n",
              "      quickchartButtonEl.classList.add('colab-df-spinner');\n",
              "      try {\n",
              "        const charts = await google.colab.kernel.invokeFunction(\n",
              "            'suggestCharts', [key], {});\n",
              "      } catch (error) {\n",
              "        console.error('Error during call to suggestCharts:', error);\n",
              "      }\n",
              "      quickchartButtonEl.classList.remove('colab-df-spinner');\n",
              "      quickchartButtonEl.classList.add('colab-df-quickchart-complete');\n",
              "    }\n",
              "    (() => {\n",
              "      let quickchartButtonEl =\n",
              "        document.querySelector('#df-8a81376c-debc-431a-bbd7-38110236e0c5 button');\n",
              "      quickchartButtonEl.style.display =\n",
              "        google.colab.kernel.accessAllowed ? 'block' : 'none';\n",
              "    })();\n",
              "  </script>\n",
              "</div>\n",
              "    </div>\n",
              "  </div>\n"
            ],
            "text/plain": [
              "     Unnamed: 0                                              Title  \\\n",
              "0           100  If he sets up a waqf for his children and thei...   \n",
              "1           101   The hadeeth of Tameem al-Daari about the Dajjaal   \n",
              "2           102  Cutting hair to make it all of equal length is...   \n",
              "3           103  Meaning of the verse {and [yet], do not forget...   \n",
              "4           104  She separated from her first husband by means ...   \n",
              "..          ...                                                ...   \n",
              "395         495  Can the person praying behind the imam read so...   \n",
              "396         496  He suffers from too many wet dreams; he wakes ...   \n",
              "397         497  Prayer rooms (musallas) in houses and business...   \n",
              "398         498  It is not permissible for women to wear shoes ...   \n",
              "399         499  Can they take the diyah (blood money) for the ...   \n",
              "\n",
              "                                                  Ques  \\\n",
              "0    Question My father died, and he had sons and d...   \n",
              "1    Question Is it true that a group of Muslims we...   \n",
              "2    Question What is the ruling on muslim men cutt...   \n",
              "3    Question What is the meaning of the verse {and...   \n",
              "4    Question I was married to my husband islamical...   \n",
              "..                                                 ...   \n",
              "395  Question I pray behind the imam in Taraweeh pr...   \n",
              "396  Question About five years ago, I started suffe...   \n",
              "397  Question I work in Saudi and I have accommodat...   \n",
              "398  Question Recently there have appeared in the m...   \n",
              "399  Question In our country the state requires car...   \n",
              "\n",
              "                                                   Ans  \n",
              "0    Praise be to Allah.It is valid to set up a waq...  \n",
              "1    Praise be to Allah.The story that you mention ...  \n",
              "2    Praise be to Allah. Cutting hair to make it al...  \n",
              "3    Praise be to Allah.There are two famous schola...  \n",
              "4    Praise be to Allah. The khul‘ that you did you...  \n",
              "..                                                 ...  \n",
              "395  Praise be to Allah. Firstly: What the person p...  \n",
              "396  Praise be to Allah.If a person wakes up and fi...  \n",
              "397  Praise be to Allah.Prayer rooms that are built...  \n",
              "398  Praise be to Allah.If they look like men’s sho...  \n",
              "399  Praise be to Allah.Firstly: Commercial insuran...  \n",
              "\n",
              "[400 rows x 4 columns]"
            ]
          },
          "execution_count": 9,
          "metadata": {},
          "output_type": "execute_result"
        }
      ],
      "source": [
        "finetuning_file"
      ]
    },
    {
      "cell_type": "code",
      "execution_count": 10,
      "metadata": {
        "id": "TW24hxxbEt9p"
      },
      "outputs": [],
      "source": [
        "questions = finetuning_file['Ques']\n",
        "#questions = [x[9:]for x in list(questions)] # This helps to remove the \"Question \" tag at the front of each question from original file\n",
        "answers = finetuning_file['Ans']"
      ]
    },
    {
      "cell_type": "code",
      "execution_count": 11,
      "metadata": {
        "id": "x0JWjsMtFM6H"
      },
      "outputs": [],
      "source": [
        "# Create a DataFrame from the lists\n",
        "df = pd.DataFrame({\n",
        "    'prompt': questions,\n",
        "    'response': answers\n",
        "})\n",
        "\n",
        "# Format each row of the DataFrame to match the required chat format\n",
        "def format_chat(row):\n",
        "    return json.dumps({\n",
        "        \"messages\": [\n",
        "            {\"role\": \"user\", \"content\": row[\"prompt\"]},\n",
        "            {\"role\": \"assistant\", \"content\": row[\"response\"]},\n",
        "        ]\n",
        "    })\n",
        "\n",
        "def convert_dataset(df, file_name):\n",
        "    df[\"conversation\"] = df.apply(format_chat, axis=1)\n",
        "    with open(file_name, 'w') as jsonl_file:\n",
        "        for example in df[\"conversation\"]:\n",
        "            jsonl_file.write(example + '\\n')\n",
        "\n",
        "# Call the function to convert the dataset and write to a JSONL file\n",
        "convert_dataset(df, \"Islam_QA_100_499_gpt3.jsonl\")"
      ]
    },
    {
      "cell_type": "markdown",
      "metadata": {
        "id": "WxZCXZ47Fo5g"
      },
      "source": [
        "# Step 2: Fine tune GPT 3.5 turbo using OpenAI API"
      ]
    },
    {
      "cell_type": "code",
      "execution_count": null,
      "metadata": {
        "id": "IcjUswIYFjex"
      },
      "outputs": [],
      "source": [
        "import os\n",
        "import openai\n",
        "openai.api_key = 'YOUR KEY HERE'\n",
        "finetuning_json = 'datasets/Islam_QA_100_499_gpt3.jsonl'\n",
        "file = openai.File.create(\n",
        "    file=open(finetuning_json, \"rb\"),\n",
        "    purpose='fine-tune',\n",
        ")"
      ]
    },
    {
      "cell_type": "code",
      "execution_count": null,
      "metadata": {
        "id": "FDBGvS9hF4bT"
      },
      "outputs": [],
      "source": [
        "file #After sending the request you should see a file ID"
      ]
    },
    {
      "cell_type": "code",
      "execution_count": null,
      "metadata": {
        "id": "FAUEewdmF9pU"
      },
      "outputs": [],
      "source": [
        "train_data_file_id = \"YOUR_FILE_ID_HERe\"\n",
        "model = openai.FineTuningJob.create(\n",
        "    model = \"gpt-3.5-turbo\",\n",
        "    training_file = train_data_file_id,\n",
        "    suffix = \"Islam_QA_100_49\"\n",
        ")"
      ]
    },
    {
      "cell_type": "code",
      "execution_count": null,
      "metadata": {
        "id": "sWSyvAtmGLCN"
      },
      "outputs": [],
      "source": [
        "model #After sending the request you should see a model ID and status"
      ]
    },
    {
      "cell_type": "code",
      "execution_count": null,
      "metadata": {
        "id": "rxpDipYuGQY0"
      },
      "outputs": [],
      "source": [
        "model_id = 'MODEL ID HERE'"
      ]
    },
    {
      "cell_type": "code",
      "execution_count": null,
      "metadata": {
        "id": "u4p66wN8GShL"
      },
      "outputs": [],
      "source": [
        "openai.FineTuningJob.retrieve(model_id) # This can be used to know the status of your finetuning job, API endpoint will be under fine_tuned_model"
      ]
    },
    {
      "cell_type": "code",
      "execution_count": null,
      "metadata": {
        "id": "dMWaPwIyHt89"
      },
      "outputs": [],
      "source": [
        "fine_tuned_model_api_end_point = 'YOUR API ENDPOINT HERE'"
      ]
    },
    {
      "cell_type": "markdown",
      "metadata": {
        "id": "XPoz77VGG3Zt"
      },
      "source": [
        "# Step 3: Testing finetuned model"
      ]
    },
    {
      "cell_type": "code",
      "execution_count": null,
      "metadata": {
        "id": "8W04mrJ2G6W0"
      },
      "outputs": [],
      "source": [
        "import os\n",
        "\n",
        "# Set your API key here\n",
        "os.environ[\"OPENAI_API_KEY\"] = \"YOUR API KEY HERE\""
      ]
    },
    {
      "cell_type": "code",
      "execution_count": null,
      "metadata": {
        "id": "MUaZtGUiHZj8"
      },
      "outputs": [],
      "source": [
        "from langchain.prompts import ChatPromptTemplate\n",
        "from langchain.chat_models import ChatOpenAI\n",
        "from langchain.schema.output_parser import StrOutputParser"
      ]
    },
    {
      "cell_type": "code",
      "execution_count": null,
      "metadata": {
        "id": "8DgBDvCVHdDr"
      },
      "outputs": [],
      "source": [
        "prompt_template_2 =  \"\"\"\n",
        "As an empathetic, intelligent chatbot, you will respond under the context of Allah, reflecting all wisdom as His. Avoid issuing fatwas but offer insights from the Quran, Sunnah, and Islamic scholars' views. Use Hadith cautiously, only as understood by scholars. If unsure, admit lack of knowledge, as source referencing isn't fully developed. Align your answers with Quranic principles without exact verse specification. Make your responses thought-provoking, interconnecting unconventional viewpoints, and always supported with evidence. Present your structured response employing domain-specific language.\n",
        "\n",
        "Example:\n",
        "\n",
        "Human: If during wudhu (ablution), one finds dirt stuck on his fingers, does working on removing the dirt by scrubbing it off disrupt the continuity of the wudhu and require repeating it?\n",
        "Assistant: Praise be to Allah. Continuity would not be disrupted by such an action (according to the most viable opinion) even if his body had dried, because he was delayed due to an action required for his purity. The same is true if he were to move from one faucet to another in search of water. However, if continuity were disrupted due to an action not related to this, like removing impurity from his clothes, eating or drinking and the like, and the limbs became dry, then he needs to repeat the wudhu. From the book What Should You Do in the Following Situations .. ? Fatawa ibn Uthaimeen, 4/145-146 (Dar al-Qutni) And Allah knows best.\n",
        "\n",
        "Human: What should a person do if one of the areas normally washed during wudu'is wounded?\n",
        "Assistant: Praise be to Allah.If a person is wounded in one of the areas of wudu' and is not able to cover the wound with a bandage, he should perform wudu' except for the wounded body part, for which he should then perform ablution with sand (tayammum).1 (Note that this means one performs normal tayammum, not actually placing the sand on the wound itself.) 1 Al-Mughni ma'a al-Sharh il-Kabeer 1/282.\n",
        "\n",
        "Human: If a man sees the signs of sexual discharge impurity (janaba) on his clothes, and he is not sure when the discharge occurred, and several prayers have passed, what should he do?\n",
        "Assistant: Praise be to Allah.If a man sees the signs of sexual discharge impurity (janaba) on his clothes, and he is not sure when the discharge occurred, and he had performed several prayers (salaat) not knowing, he has to perform major ablution (ghusl) and repeat the salaat from the most recent sleep in which he was wearing this clothes. However, if he finds out that the janaba was from a previous sleep, then he should repeat salaat from the last sleep he thinks the janaba occurred1. The references (adillah) on the religious duty of performing ghusl due to janaba in preparation for salaat are many, one of which is Allah's command in the Qur'an, a translated meaning of which is: \"O' You who believe, do not get approach salaat while you are drunk until you know what you are saying, nor while impure due to sexual discharge (junob) unless you are traveling about until you perform ghusl\" (4:43). And Ali's narration (hadith), (may Allah be pleased with him), in which he said \"I was a man with frequent urethral discharge, so I kept performing ghusl until the skin of my back started cracking, so I mentioned this to the Prophet peace be upon him (or it was mentioned to him) so the messenger of Allah (peace be upon him) said, \"Don't do ghusl if you see urethral discharge, just wash your male organ and perform wudu' same as wudu' of salaat. If semen appears, then perform ghusl\"2. This hadith indicates that appearance of semen requires ghusl whereas urethral discharge only needs washing of the sexual organ followed by wudu'.From the book What Should You Do in the Following Situtations...? 1 Al-Mughni ma'a al-Sharh il-Kabeer 1/199. 2 Narrated by Abu Dawood number 206 and verified sahih by Albani in Arwaa' al-Ghaleel number 125.\n",
        "\n",
        "Human: {input}\n",
        "Assistant:\n",
        "\n",
        "\"\"\"\n",
        "\n",
        "\n",
        "temperature = 0.4\n",
        "\n",
        "prompt = ChatPromptTemplate.from_template(prompt_template_2)\n",
        "llm_model = ChatOpenAI(temperature=temperature, model_name=fine_tuned_model_api_end_point)\n",
        "chain = prompt | llm_model | StrOutputParser()"
      ]
    },
    {
      "cell_type": "code",
      "execution_count": null,
      "metadata": {
        "id": "BITgS2fIIAXS"
      },
      "outputs": [],
      "source": [
        "text = chain.invoke({\"input\": \"What should a person do if one of the areas normally washed during wudu'is wounded?\"})"
      ]
    }
  ],
  "metadata": {
    "colab": {
      "provenance": []
    },
    "kernelspec": {
      "display_name": "base",
      "language": "python",
      "name": "python3"
    },
    "language_info": {
      "name": "python",
      "version": "3.9.13 (main, Aug 25 2022, 18:24:45) \n[Clang 12.0.0 ]"
    },
    "vscode": {
      "interpreter": {
        "hash": "18dc847a0b0be71609a3a405908420e4f850279a7e32a1a8734a9ad066d9bde9"
      }
    }
  },
  "nbformat": 4,
  "nbformat_minor": 0
}
